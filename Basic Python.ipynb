{
 "cells": [
  {
   "cell_type": "code",
   "execution_count": 1,
   "id": "f6d8ee85",
   "metadata": {},
   "outputs": [
    {
     "name": "stdout",
     "output_type": "stream",
     "text": [
      "The vector :  [ 7 14 15 18 19]\n",
      "The largest element in vector :  19\n"
     ]
    }
   ],
   "source": [
    "# Write a function that returns the largest element in a vector of numbers.\n",
    "\n",
    "import numpy as np\n",
    "arr = np.array([7,14,15,18,19])\n",
    "\n",
    "def func_largest(arr) :\n",
    "    mx = arr[0]\n",
    "    for x in arr :\n",
    "        if x > mx :\n",
    "            mx = x\n",
    "    print(\"The vector : \",arr)\n",
    "    print(\"The largest element in vector : \",mx)\n",
    "\n",
    "func_largest(arr)"
   ]
  },
  {
   "cell_type": "code",
   "execution_count": 2,
   "id": "80ac6fdd",
   "metadata": {},
   "outputs": [
    {
     "name": "stdout",
     "output_type": "stream",
     "text": [
      "The vector :  [ 7 14 15 18 19]\n",
      "Sum of even numbers:  32\n"
     ]
    }
   ],
   "source": [
    "# Write a function that returns the sum of the even numbers from a vector of numbers.\n",
    "\n",
    "def sum_of_even(arr):\n",
    "    sum = 0\n",
    "    for x in arr :\n",
    "        if x % 2 == 0 :\n",
    "            sum += x\n",
    "    print(\"The vector : \",arr)\n",
    "    print(\"Sum of even numbers: \",sum)\n",
    "    \n",
    "sum_of_even(arr)"
   ]
  },
  {
   "cell_type": "code",
   "execution_count": null,
   "id": "0553df34",
   "metadata": {},
   "outputs": [],
   "source": [
    "# Write a function that searches a number from a vector of numbers.\n",
    "\n",
    "def num_search(arr, x):\n",
    "    for i in range(np.size(arr)) :\n",
    "        if arr[i] == x :\n",
    "            print(\"Number found at index: \",i)\n",
    "            break\n",
    "    else:\n",
    "        print(\"Sorry ! Number not found\")\n",
    "\n",
    "n=int(input(\"Enter the number to be searched : \"))\n",
    "num_search(arr,n)"
   ]
  },
  {
   "cell_type": "code",
   "execution_count": null,
   "id": "59d65282",
   "metadata": {},
   "outputs": [],
   "source": [
    "# Write a function that computes the factorial of a number.\n",
    "\n",
    "def factorial(n):\n",
    "    fact = 1\n",
    "    for x in range(2,n+1):\n",
    "        fact *= x;\n",
    "    print(\"Factorial of \",n, \": \",fact)\n",
    "    \n",
    "n = int(input(\"Enter a number: \"))\n",
    "factorial(n)"
   ]
  }
 ],
 "metadata": {
  "kernelspec": {
   "display_name": "Python 3 (ipykernel)",
   "language": "python",
   "name": "python3"
  },
  "language_info": {
   "codemirror_mode": {
    "name": "ipython",
    "version": 3
   },
   "file_extension": ".py",
   "mimetype": "text/x-python",
   "name": "python",
   "nbconvert_exporter": "python",
   "pygments_lexer": "ipython3",
   "version": "3.7.5"
  }
 },
 "nbformat": 4,
 "nbformat_minor": 5
}
