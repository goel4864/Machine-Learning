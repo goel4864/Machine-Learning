{
 "cells": [
  {
   "cell_type": "code",
   "execution_count": 1,
   "id": "0464936e",
   "metadata": {},
   "outputs": [],
   "source": [
    "import numpy as np\n",
    "import matplotlib.pyplot as plt\n",
    "import pandas as pd"
   ]
  },
  {
   "cell_type": "code",
   "execution_count": 3,
   "id": "fa04884e",
   "metadata": {},
   "outputs": [
    {
     "data": {
      "text/html": [
       "<div>\n",
       "<style scoped>\n",
       "    .dataframe tbody tr th:only-of-type {\n",
       "        vertical-align: middle;\n",
       "    }\n",
       "\n",
       "    .dataframe tbody tr th {\n",
       "        vertical-align: top;\n",
       "    }\n",
       "\n",
       "    .dataframe thead th {\n",
       "        text-align: right;\n",
       "    }\n",
       "</style>\n",
       "<table border=\"1\" class=\"dataframe\">\n",
       "  <thead>\n",
       "    <tr style=\"text-align: right;\">\n",
       "      <th></th>\n",
       "      <th>Marks_1</th>\n",
       "      <th>Marks_2</th>\n",
       "      <th>Status</th>\n",
       "    </tr>\n",
       "  </thead>\n",
       "  <tbody>\n",
       "    <tr>\n",
       "      <th>0</th>\n",
       "      <td>34.623660</td>\n",
       "      <td>78.024693</td>\n",
       "      <td>0</td>\n",
       "    </tr>\n",
       "    <tr>\n",
       "      <th>1</th>\n",
       "      <td>30.286711</td>\n",
       "      <td>43.894998</td>\n",
       "      <td>0</td>\n",
       "    </tr>\n",
       "    <tr>\n",
       "      <th>2</th>\n",
       "      <td>35.847409</td>\n",
       "      <td>72.902198</td>\n",
       "      <td>0</td>\n",
       "    </tr>\n",
       "    <tr>\n",
       "      <th>3</th>\n",
       "      <td>60.182599</td>\n",
       "      <td>86.308552</td>\n",
       "      <td>1</td>\n",
       "    </tr>\n",
       "    <tr>\n",
       "      <th>4</th>\n",
       "      <td>79.032736</td>\n",
       "      <td>75.344376</td>\n",
       "      <td>1</td>\n",
       "    </tr>\n",
       "  </tbody>\n",
       "</table>\n",
       "</div>"
      ],
      "text/plain": [
       "     Marks_1    Marks_2  Status\n",
       "0  34.623660  78.024693       0\n",
       "1  30.286711  43.894998       0\n",
       "2  35.847409  72.902198       0\n",
       "3  60.182599  86.308552       1\n",
       "4  79.032736  75.344376       1"
      ]
     },
     "execution_count": 3,
     "metadata": {},
     "output_type": "execute_result"
    }
   ],
   "source": [
    "df = pd.read_csv(\"C:/Users/akanksha goel/OneDrive/Desktop/ml r/final practicals/LogisticData.csv\",header = None)\n",
    "df.columns = [\"Marks_1\",\"Marks_2\",\"Status\"]\n",
    "df.head()"
   ]
  },
  {
   "cell_type": "code",
   "execution_count": 4,
   "id": "d1578e3d",
   "metadata": {},
   "outputs": [
    {
     "data": {
      "text/plain": [
       "(100, 3)"
      ]
     },
     "execution_count": 4,
     "metadata": {},
     "output_type": "execute_result"
    }
   ],
   "source": [
    "df.shape"
   ]
  },
  {
   "cell_type": "code",
   "execution_count": 5,
   "id": "f3b44475",
   "metadata": {},
   "outputs": [],
   "source": [
    "# # single variable\n",
    "# df = df.loc[:, ['Marks_1', 'Status']]\n",
    "# df.head()\n"
   ]
  },
  {
   "cell_type": "code",
   "execution_count": 6,
   "id": "bc38fe13",
   "metadata": {},
   "outputs": [],
   "source": [
    "X = df.iloc[:, :-1].values\n",
    "Y = df.iloc[:, -1].values\n",
    "Y\n",
    "\n",
    "admitted = df.loc[Y == 1]\n",
    "not_admitted = df.loc[Y == 0]\n"
   ]
  },
  {
   "cell_type": "code",
   "execution_count": 7,
   "id": "73fcd96c",
   "metadata": {},
   "outputs": [
    {
     "data": {
      "image/png": "[encoded data removed]",
      "text/plain": [
       "<Figure size 432x288 with 1 Axes>"
      ]
     },
     "metadata": {
      "needs_background": "light"
     },
     "output_type": "display_data"
    }
   ],
   "source": [
    "plt.scatter(admitted.iloc[:, 0], admitted.iloc[:, 1], label='Admitted')\n",
    "plt.scatter(not_admitted.iloc[:, 0], not_admitted.iloc[:, 1], label='Not Admitted')\n",
    "plt.legend()\n",
    "plt.show()"
   ]
  },
  {
   "cell_type": "code",
   "execution_count": 8,
   "id": "10ca9025",
   "metadata": {},
   "outputs": [],
   "source": [
    "# Y = pd.DataFrame(Y)\n",
    "# Y.shape\n",
    "# # X.shape\n",
    "\n",
    "# Y.shape\n",
    "m,n = X.shape\n",
    "\n",
    "\n"
   ]
  },
  {
   "cell_type": "markdown",
   "id": "9606f18f",
   "metadata": {},
   "source": [
    "TRY 1"
   ]
  },
  {
   "cell_type": "code",
   "execution_count": 9,
   "id": "be2d929b",
   "metadata": {},
   "outputs": [],
   "source": [
    "def sigmoid(z) :\n",
    "    return 1/(1 + np.exp(-z))"
   ]
  },
  {
   "cell_type": "code",
   "execution_count": 10,
   "id": "3c7ab277",
   "metadata": {},
   "outputs": [],
   "source": [
    "def lr_hyp(x,theta) :\n",
    "    return np.dot(x,theta)"
   ]
  },
  {
   "cell_type": "code",
   "execution_count": 11,
   "id": "aa7ac1fc",
   "metadata": {},
   "outputs": [],
   "source": [
    "z = np.ones(m)\n",
    "z = z.reshape(m,1)\n",
    "X = np.append(z,X,axis =1)\n",
    "# X"
   ]
  },
  {
   "cell_type": "code",
   "execution_count": 12,
   "id": "39bd70ea",
   "metadata": {},
   "outputs": [
    {
     "name": "stdout",
     "output_type": "stream",
     "text": [
      "0.6931471805599453\n"
     ]
    }
   ],
   "source": [
    "m,n = X.shape\n",
    "theta = np.zeros(n)\n",
    "theta = theta.reshape(n,1)\n",
    "Y = Y.reshape(-1,1)\n",
    "def cal_cost(X,Y,theta) :\n",
    "    t = -Y*(np.log(sigmoid(lr_hyp(X,theta)))) - (1-Y)*(np.log(1-sigmoid(lr_hyp(X,theta))))\n",
    "    j = np.sum(t)/m\n",
    "    return j\n",
    "L = cal_cost(X,Y,theta)  \n",
    "print(L)"
   ]
  },
  {
   "cell_type": "code",
   "execution_count": 13,
   "id": "3c89eb9c",
   "metadata": {},
   "outputs": [],
   "source": [
    "cost_list = list()\n",
    "alphas = list()\n",
    "iters = 1000\n",
    "\n",
    "def gd(x,y, theta, alpha, iters):\n",
    "    previous_cost = None\n",
    "    for i in range(iters):\n",
    "        val1=sigmoid(lr_hyp(x,theta))-y\n",
    "        gradeint=np. dot (x.transpose(),val1)/m\n",
    "        theta=theta-(alpha/m)*gradeint\n",
    "        L=cal_cost(x,y,theta)\n",
    "        if previous_cost and abs(previous_cost-L)<= 1e-6:\n",
    "            print(\"iteration \",i)\n",
    "            print(\"cost function value is \",L)\n",
    "            cost_list .append(L)\n",
    "            break\n",
    "        previous_cost = L\n",
    "    return theta\n",
    "    "
   ]
  },
  {
   "cell_type": "code",
   "execution_count": 14,
   "id": "f19d3c49",
   "metadata": {},
   "outputs": [
    {
     "name": "stdout",
     "output_type": "stream",
     "text": [
      "iteration  257\n",
      "cost function value is  0.6297265843745893\n",
      " optimized parameters  [[-0.00172538]\n",
      " [ 0.00980537]\n",
      " [ 0.00108198]]\n"
     ]
    }
   ],
   "source": [
    "# alpha=float(input(\" Enter the learning_rate: \"))\n",
    "alpha = 0.01\n",
    "alphas. append(alpha)\n",
    "theta = gd(X,Y, theta, alpha, iters)\n",
    "print(\" optimized parameters \", theta)"
   ]
  },
  {
   "cell_type": "code",
   "execution_count": 15,
   "id": "0f8ed147",
   "metadata": {},
   "outputs": [
    {
     "data": {
      "text/plain": [
       "[0.6297265843745893]"
      ]
     },
     "execution_count": 15,
     "metadata": {},
     "output_type": "execute_result"
    }
   ],
   "source": [
    "cost_list"
   ]
  },
  {
   "cell_type": "code",
   "execution_count": 16,
   "id": "835b921b",
   "metadata": {},
   "outputs": [
    {
     "data": {
      "text/plain": [
       "[0.01]"
      ]
     },
     "execution_count": 16,
     "metadata": {},
     "output_type": "execute_result"
    }
   ],
   "source": [
    "alphas"
   ]
  },
  {
   "cell_type": "markdown",
   "id": "ba056363",
   "metadata": {},
   "source": [
    "By sklearn"
   ]
  },
  {
   "cell_type": "code",
   "execution_count": null,
   "id": "c3f0bb79",
   "metadata": {},
   "outputs": [],
   "source": [
    "from sklearn.model_selection import train_test_split\n",
    "from sklearn.linear_model import LogisticRegression"
   ]
  },
  {
   "cell_type": "code",
   "execution_count": null,
   "id": "b7c7fae9",
   "metadata": {},
   "outputs": [],
   "source": [
    "X_train, X_test, Y_train, Y_test = train_test_split(X, Y, test_size = 0.2, random_state = 0 )\n",
    "model1 = LogisticRegression()    \n",
    "model1.fit( X_train, Y_train)\n",
    "predictions = model1.predict( X_test )"
   ]
  },
  {
   "cell_type": "code",
   "execution_count": null,
   "id": "713036ae",
   "metadata": {},
   "outputs": [],
   "source": [
    "from sklearn.metrics import accuracy_score, confusion_matrix\n",
    "from sklearn.metrics import classification_report"
   ]
  },
  {
   "cell_type": "code",
   "execution_count": null,
   "id": "89fabcd6",
   "metadata": {},
   "outputs": [],
   "source": [
    "# correctly_classified1 = 0\n",
    "# count = 0    \n",
    "# for count in range( np.size( Yp ) ) :            \n",
    "#     if Y[count] == Yp[count] :            \n",
    "#         correctly_classified1 = correctly_classified1 + 1              \n",
    "#     count = count + 1\n",
    "\n",
    "# print( \"Accuracy on test set by sklearn model   :  \", (correctly_classified1 / count ) * 100 )"
   ]
  },
  {
   "cell_type": "code",
   "execution_count": null,
   "id": "d4651968",
   "metadata": {},
   "outputs": [],
   "source": [
    "\n",
    "print(confusion_matrix(Y_test,predictions))\n",
    "print(classification_report(Y_test,predictions))\n",
    "print(\"Accuracy : \",accuracy_score(Y_test,predictions)*100)"
   ]
  },
  {
   "cell_type": "code",
   "execution_count": null,
   "id": "e71a19ac",
   "metadata": {},
   "outputs": [],
   "source": []
  }
 ],
 "metadata": {
  "kernelspec": {
   "display_name": "Python 3 (ipykernel)",
   "language": "python",
   "name": "python3"
  },
  "language_info": {
   "codemirror_mode": {
    "name": "ipython",
    "version": 3
   },
   "file_extension": ".py",
   "mimetype": "text/x-python",
   "name": "python",
   "nbconvert_exporter": "python",
   "pygments_lexer": "ipython3",
   "version": "3.7.5"
  }
 },
 "nbformat": 4,
 "nbformat_minor": 5
}
